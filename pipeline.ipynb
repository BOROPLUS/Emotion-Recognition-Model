{
 "cells": [
  {
   "cell_type": "code",
   "execution_count": 1,
   "id": "bee45c9c",
   "metadata": {},
   "outputs": [],
   "source": [
    "import tensorflow as tf\n",
    "import os\n",
    "import librosa\n",
    "import pandas\n",
    "import matplotlib\n",
    "import seaborn\n",
    "from sklearn.preprocessing import LabelEncoder"
   ]
  },
  {
   "cell_type": "code",
   "execution_count": 3,
   "id": "79d5414f",
   "metadata": {},
   "outputs": [],
   "source": [
    "import librosa\n",
    "import numpy as np\n",
    "\n",
    "def load_and_preprocess(file_path):\n",
    "    y, sr = librosa.load(file_path, sr=22050)\n",
    "    y_trimmed, _ = librosa.effects.trim(y, top_db=20)\n",
    "    target_length = 22050 * 3.5\n",
    "    if len(y_trimmed) < target_length:\n",
    "        y_padded = np.pad(y_trimmed, (0, int(target_length - len(y_trimmed))))\n",
    "    else:\n",
    "        y_padded = y_trimmed[:int(target_length)]\n",
    "    return y_padded, sr\n",
    "\n",
    "def extract_features(y, sr):\n",
    "    mfcc = librosa.feature.mfcc(y=y, sr=sr, n_mfcc=13)\n",
    "    mel = librosa.feature.melspectrogram(y=y, sr=sr, n_mels=128)\n",
    "    chroma = librosa.feature.chroma_stft(y=y, sr=sr)\n",
    "    contrast = librosa.feature.spectral_contrast(y=y, sr=sr)\n",
    "    tonnetz = librosa.feature.tonnetz(y=y, sr=sr)\n",
    "    return np.vstack([mfcc, mel, chroma, contrast, tonnetz]).T\n",
    "\n",
    "def load_dataset():\n",
    "    data_dirs = [\"Audio_Speech_Actors_01-24\", \"Audio_Song_Actors_01-24\"]\n",
    "    emotion_map = {\n",
    "        1: \"neutral\",\n",
    "        2: \"calm\",\n",
    "        3: \"happy\",\n",
    "        4: \"sad\",\n",
    "        5: \"angry\",\n",
    "        6: \"fearful\",\n",
    "        7: \"disgust\",\n",
    "        8: \"surprised\"\n",
    "    }\n",
    "\n",
    "    X = []\n",
    "    y = []\n",
    "\n",
    "    for data_dir in data_dirs:\n",
    "        for actor_folder in sorted(os.listdir(data_dir)):\n",
    "            actor_path = os.path.join(data_dir, actor_folder)\n",
    "            if not os.path.isdir(actor_path):\n",
    "                continue\n",
    "            for file in sorted(os.listdir(actor_path)):\n",
    "                if file.endswith(\".wav\"):\n",
    "                    try:\n",
    "                        emotion_code = int(file.split(\"-\")[2])\n",
    "                        emotion_label = emotion_map.get(emotion_code)\n",
    "                        if emotion_label:\n",
    "                            file_path = os.path.join(actor_path, file)\n",
    "                            y_audio, sr = load_and_preprocess(file_path)\n",
    "                            features = extract_features(y_audio, sr)\n",
    "                            X.append(features)\n",
    "                            y.append(emotion_label)\n",
    "                    except (IndexError, ValueError):\n",
    "                        print(f\"Skipping invalid filename: {file}\")\n",
    "\n",
    "    # Padding/truncating feature sequences to fixed length\n",
    "    max_len = max(f.shape[0] for f in X)\n",
    "    padded_X = []\n",
    "    for feat in X:\n",
    "        if feat.shape[0] < max_len:\n",
    "            pad_width = max_len - feat.shape[0]\n",
    "            feat_padded = np.pad(feat, ((0, pad_width), (0, 0)))\n",
    "        else:\n",
    "            feat_padded = feat[:max_len]\n",
    "        padded_X.append(feat_padded)\n",
    "\n",
    "    X = np.array(padded_X)\n",
    "    le = LabelEncoder()\n",
    "    y = le.fit_transform(y)\n",
    "    return X, y\n"
   ]
  },
  {
   "cell_type": "code",
   "execution_count": 9,
   "id": "05d3ec24",
   "metadata": {},
   "outputs": [],
   "source": [
    "# [4] Model Architecture\n",
    "from tensorflow.keras.models import Model\n",
    "from tensorflow.keras.layers import Input, Conv2D, LSTM, Dense, Flatten, Reshape\n",
    "\n",
    "# num_classes = len(np.unique(y))  # Dynamically set number of classes\n",
    "# model = create_model(input_shape=X_train.shape[1:], num_classes=num_classes)\n",
    "\n",
    "def create_model(input_shape, num_classes=8):\n",
    "    inputs = Input(shape=input_shape)  # (151, 166)\n",
    "\n",
    "    # CNN branch\n",
    "    cnn_branch = Reshape((input_shape[0], input_shape[1], 1))(inputs)  # (151, 166, 1)\n",
    "    cnn_branch = Conv2D(64, (3, 3), activation='relu', padding='same')(cnn_branch)\n",
    "    cnn_branch = Conv2D(32, (3, 3), activation='relu', padding='same')(cnn_branch)\n",
    "    cnn_branch = Flatten()(cnn_branch)\n",
    "\n",
    "    # LSTM branch\n",
    "    lstm_branch = LSTM(128, return_sequences=True)(inputs)\n",
    "    lstm_branch = LSTM(64)(lstm_branch)\n",
    "\n",
    "    # Combine\n",
    "    combined = tf.keras.layers.concatenate([cnn_branch, lstm_branch])  # both are 2D now\n",
    "\n",
    "    # Output layer\n",
    "    outputs = Dense(num_classes, activation='softmax')(combined)\n",
    "\n",
    "    return Model(inputs, outputs)"
   ]
  },
  {
   "cell_type": "code",
   "execution_count": 10,
   "id": "acff9492",
   "metadata": {},
   "outputs": [
    {
     "name": "stdout",
     "output_type": "stream",
     "text": [
      "Epoch 1/100\n",
      "\u001b[1m62/62\u001b[0m \u001b[32m━━━━━━━━━━━━━━━━━━━━\u001b[0m\u001b[37m\u001b[0m \u001b[1m48s\u001b[0m 712ms/step - accuracy: 0.2093 - loss: 52.9217 - val_accuracy: 0.3809 - val_loss: 1.7109\n",
      "Epoch 2/100\n",
      "\u001b[1m62/62\u001b[0m \u001b[32m━━━━━━━━━━━━━━━━━━━━\u001b[0m\u001b[37m\u001b[0m \u001b[1m42s\u001b[0m 684ms/step - accuracy: 0.4882 - loss: 1.4217 - val_accuracy: 0.4990 - val_loss: 1.6330\n",
      "Epoch 3/100\n",
      "\u001b[1m62/62\u001b[0m \u001b[32m━━━━━━━━━━━━━━━━━━━━\u001b[0m\u001b[37m\u001b[0m \u001b[1m49s\u001b[0m 795ms/step - accuracy: 0.7811 - loss: 0.7398 - val_accuracy: 0.4827 - val_loss: 2.0142\n",
      "Epoch 4/100\n",
      "\u001b[1m62/62\u001b[0m \u001b[32m━━━━━━━━━━━━━━━━━━━━\u001b[0m\u001b[37m\u001b[0m \u001b[1m42s\u001b[0m 675ms/step - accuracy: 0.8945 - loss: 0.4012 - val_accuracy: 0.5295 - val_loss: 2.3714\n",
      "Epoch 5/100\n",
      "\u001b[1m62/62\u001b[0m \u001b[32m━━━━━━━━━━━━━━━━━━━━\u001b[0m\u001b[37m\u001b[0m \u001b[1m42s\u001b[0m 679ms/step - accuracy: 0.9780 - loss: 0.1361 - val_accuracy: 0.5051 - val_loss: 3.1239\n",
      "Epoch 6/100\n",
      "\u001b[1m62/62\u001b[0m \u001b[32m━━━━━━━━━━━━━━━━━━━━\u001b[0m\u001b[37m\u001b[0m \u001b[1m54s\u001b[0m 868ms/step - accuracy: 0.9940 - loss: 0.0577 - val_accuracy: 0.5153 - val_loss: 3.3259\n",
      "Epoch 7/100\n",
      "\u001b[1m62/62\u001b[0m \u001b[32m━━━━━━━━━━━━━━━━━━━━\u001b[0m\u001b[37m\u001b[0m \u001b[1m54s\u001b[0m 865ms/step - accuracy: 0.9999 - loss: 0.0237 - val_accuracy: 0.5458 - val_loss: 3.6386\n",
      "Epoch 8/100\n",
      "\u001b[1m62/62\u001b[0m \u001b[32m━━━━━━━━━━━━━━━━━━━━\u001b[0m\u001b[37m\u001b[0m \u001b[1m34s\u001b[0m 555ms/step - accuracy: 1.0000 - loss: 0.0075 - val_accuracy: 0.5438 - val_loss: 3.9212\n",
      "Epoch 9/100\n",
      "\u001b[1m62/62\u001b[0m \u001b[32m━━━━━━━━━━━━━━━━━━━━\u001b[0m\u001b[37m\u001b[0m \u001b[1m34s\u001b[0m 555ms/step - accuracy: 1.0000 - loss: 0.0039 - val_accuracy: 0.5458 - val_loss: 4.0647\n",
      "Epoch 10/100\n",
      "\u001b[1m62/62\u001b[0m \u001b[32m━━━━━━━━━━━━━━━━━━━━\u001b[0m\u001b[37m\u001b[0m \u001b[1m35s\u001b[0m 565ms/step - accuracy: 1.0000 - loss: 0.0024 - val_accuracy: 0.5519 - val_loss: 4.1794\n",
      "Epoch 11/100\n",
      "\u001b[1m62/62\u001b[0m \u001b[32m━━━━━━━━━━━━━━━━━━━━\u001b[0m\u001b[37m\u001b[0m \u001b[1m35s\u001b[0m 566ms/step - accuracy: 1.0000 - loss: 0.0018 - val_accuracy: 0.5479 - val_loss: 4.2884\n",
      "Epoch 12/100\n",
      "\u001b[1m62/62\u001b[0m \u001b[32m━━━━━━━━━━━━━━━━━━━━\u001b[0m\u001b[37m\u001b[0m \u001b[1m35s\u001b[0m 571ms/step - accuracy: 1.0000 - loss: 0.0013 - val_accuracy: 0.5438 - val_loss: 4.3746\n"
     ]
    }
   ],
   "source": [
    "# [5] Training Pipeline\n",
    "from sklearn.model_selection import train_test_split\n",
    "\n",
    "X, y = load_dataset()\n",
    "X_train, X_val, y_train, y_val = train_test_split(X, y, test_size=0.2, stratify=y)\n",
    "\n",
    "num_classes = len(np.unique(y))  # <-- ADD THIS LINE\n",
    "model = create_model(input_shape=X_train.shape[1:], num_classes=num_classes)  # <-- UPDATE THIS LINE\n",
    "model.compile(optimizer='adam', loss='sparse_categorical_crossentropy', metrics=['accuracy'])\n",
    "\n",
    "history = model.fit(X_train, y_train, validation_data=(X_val, y_val), epochs=100,\n",
    "                    batch_size=32, callbacks=[tf.keras.callbacks.EarlyStopping(patience=10)])\n"
   ]
  },
  {
   "cell_type": "code",
   "execution_count": 11,
   "id": "cf280742",
   "metadata": {},
   "outputs": [
    {
     "name": "stdout",
     "output_type": "stream",
     "text": [
      "\u001b[1m16/16\u001b[0m \u001b[32m━━━━━━━━━━━━━━━━━━━━\u001b[0m\u001b[37m\u001b[0m \u001b[1m3s\u001b[0m 131ms/step\n",
      "              precision    recall  f1-score   support\n",
      "\n",
      "           0       0.61      0.61      0.61        75\n",
      "           1       0.72      0.73      0.73        75\n",
      "           2       0.53      0.49      0.51        39\n",
      "           3       0.46      0.44      0.45        75\n",
      "           4       0.47      0.53      0.50        75\n",
      "           5       0.57      0.55      0.56        38\n",
      "           6       0.48      0.47      0.47        75\n",
      "           7       0.49      0.46      0.47        39\n",
      "\n",
      "    accuracy                           0.54       491\n",
      "   macro avg       0.54      0.54      0.54       491\n",
      "weighted avg       0.54      0.54      0.54       491\n",
      "\n"
     ]
    },
    {
     "ename": "AssertionError",
     "evalue": "F1 score requirement not met",
     "output_type": "error",
     "traceback": [
      "\u001b[1;31m---------------------------------------------------------------------------\u001b[0m",
      "\u001b[1;31mAssertionError\u001b[0m                            Traceback (most recent call last)",
      "Cell \u001b[1;32mIn[11], line 11\u001b[0m\n\u001b[0;32m      9\u001b[0m sns\u001b[38;5;241m.\u001b[39mheatmap(cm, annot\u001b[38;5;241m=\u001b[39m\u001b[38;5;28;01mTrue\u001b[39;00m, fmt\u001b[38;5;241m=\u001b[39m\u001b[38;5;124m'\u001b[39m\u001b[38;5;124md\u001b[39m\u001b[38;5;124m'\u001b[39m)\n\u001b[0;32m     10\u001b[0m f1 \u001b[38;5;241m=\u001b[39m f1_score(y_val, y_pred, average\u001b[38;5;241m=\u001b[39m\u001b[38;5;124m'\u001b[39m\u001b[38;5;124mmacro\u001b[39m\u001b[38;5;124m'\u001b[39m)\n\u001b[1;32m---> 11\u001b[0m \u001b[38;5;28;01massert\u001b[39;00m f1 \u001b[38;5;241m>\u001b[39m \u001b[38;5;241m0.8\u001b[39m, \u001b[38;5;124m\"\u001b[39m\u001b[38;5;124mF1 score requirement not met\u001b[39m\u001b[38;5;124m\"\u001b[39m\n",
      "\u001b[1;31mAssertionError\u001b[0m: F1 score requirement not met"
     ]
    },
    {
     "data": {
      "image/png": "[encoded data removed]",
      "text/plain": [
       "<Figure size 640x480 with 2 Axes>"
      ]
     },
     "metadata": {},
     "output_type": "display_data"
    }
   ],
   "source": [
    "# [6] Evaluation\n",
    "from sklearn.metrics import confusion_matrix, classification_report, f1_score\n",
    "import seaborn as sns\n",
    "import matplotlib.pyplot as plt\n",
    "\n",
    "y_pred = model.predict(X_val).argmax(axis=1)\n",
    "print(classification_report(y_val, y_pred))\n",
    "cm = confusion_matrix(y_val, y_pred)\n",
    "sns.heatmap(cm, annot=True, fmt='d')\n",
    "f1 = f1_score(y_val, y_pred, average='macro')\n",
    "assert f1 > 0.8, \"F1 score requirement not met\""
   ]
  },
  {
   "cell_type": "code",
   "execution_count": 12,
   "id": "073026ed",
   "metadata": {},
   "outputs": [
    {
     "name": "stderr",
     "output_type": "stream",
     "text": [
      "WARNING:absl:You are saving your model as an HDF5 file via `model.save()` or `keras.saving.save_model(model)`. This file format is considered legacy. We recommend using instead the native Keras format, e.g. `model.save('my_model.keras')` or `keras.saving.save_model(model, 'my_model.keras')`. \n"
     ]
    }
   ],
   "source": [
    "# [7] Save Model\n",
    "model.save('emotion_model.h5')"
   ]
  },
  {
   "cell_type": "code",
   "execution_count": 13,
   "id": "d9341e6a",
   "metadata": {},
   "outputs": [
    {
     "name": "stdout",
     "output_type": "stream",
     "text": [
      "Collecting streamlit-audiorec\n",
      "  Downloading streamlit_audiorec-0.1.3-py3-none-any.whl.metadata (2.4 kB)\n",
      "Requirement already satisfied: streamlit>=0.63 in c:\\users\\hp\\anaconda3\\envs\\emo-dl\\lib\\site-packages (from streamlit-audiorec) (1.46.0)\n",
      "Requirement already satisfied: altair<6,>=4.0 in c:\\users\\hp\\anaconda3\\envs\\emo-dl\\lib\\site-packages (from streamlit>=0.63->streamlit-audiorec) (5.5.0)\n",
      "Requirement already satisfied: blinker<2,>=1.5.0 in c:\\users\\hp\\anaconda3\\envs\\emo-dl\\lib\\site-packages (from streamlit>=0.63->streamlit-audiorec) (1.9.0)\n",
      "Requirement already satisfied: cachetools<7,>=4.0 in c:\\users\\hp\\anaconda3\\envs\\emo-dl\\lib\\site-packages (from streamlit>=0.63->streamlit-audiorec) (5.5.2)\n",
      "Requirement already satisfied: click<9,>=7.0 in c:\\users\\hp\\anaconda3\\envs\\emo-dl\\lib\\site-packages (from streamlit>=0.63->streamlit-audiorec) (8.1.8)\n",
      "Requirement already satisfied: numpy<3,>=1.23 in c:\\users\\hp\\anaconda3\\envs\\emo-dl\\lib\\site-packages (from streamlit>=0.63->streamlit-audiorec) (2.0.2)\n",
      "Requirement already satisfied: packaging<26,>=20 in c:\\users\\hp\\anaconda3\\envs\\emo-dl\\lib\\site-packages (from streamlit>=0.63->streamlit-audiorec) (25.0)\n",
      "Requirement already satisfied: pandas<3,>=1.4.0 in c:\\users\\hp\\anaconda3\\envs\\emo-dl\\lib\\site-packages (from streamlit>=0.63->streamlit-audiorec) (2.3.0)\n",
      "Requirement already satisfied: pillow<12,>=7.1.0 in c:\\users\\hp\\anaconda3\\envs\\emo-dl\\lib\\site-packages (from streamlit>=0.63->streamlit-audiorec) (11.2.1)\n",
      "Requirement already satisfied: protobuf<7,>=3.20 in c:\\users\\hp\\anaconda3\\envs\\emo-dl\\lib\\site-packages (from streamlit>=0.63->streamlit-audiorec) (5.29.5)\n",
      "Requirement already satisfied: pyarrow>=7.0 in c:\\users\\hp\\anaconda3\\envs\\emo-dl\\lib\\site-packages (from streamlit>=0.63->streamlit-audiorec) (20.0.0)\n",
      "Requirement already satisfied: requests<3,>=2.27 in c:\\users\\hp\\anaconda3\\envs\\emo-dl\\lib\\site-packages (from streamlit>=0.63->streamlit-audiorec) (2.32.4)\n",
      "Requirement already satisfied: tenacity<10,>=8.1.0 in c:\\users\\hp\\anaconda3\\envs\\emo-dl\\lib\\site-packages (from streamlit>=0.63->streamlit-audiorec) (9.1.2)\n",
      "Requirement already satisfied: toml<2,>=0.10.1 in c:\\users\\hp\\anaconda3\\envs\\emo-dl\\lib\\site-packages (from streamlit>=0.63->streamlit-audiorec) (0.10.2)\n",
      "Requirement already satisfied: typing-extensions<5,>=4.4.0 in c:\\users\\hp\\anaconda3\\envs\\emo-dl\\lib\\site-packages (from streamlit>=0.63->streamlit-audiorec) (4.14.0)\n",
      "Requirement already satisfied: watchdog<7,>=2.1.5 in c:\\users\\hp\\anaconda3\\envs\\emo-dl\\lib\\site-packages (from streamlit>=0.63->streamlit-audiorec) (6.0.0)\n",
      "Requirement already satisfied: gitpython!=3.1.19,<4,>=3.0.7 in c:\\users\\hp\\anaconda3\\envs\\emo-dl\\lib\\site-packages (from streamlit>=0.63->streamlit-audiorec) (3.1.44)\n",
      "Requirement already satisfied: pydeck<1,>=0.8.0b4 in c:\\users\\hp\\anaconda3\\envs\\emo-dl\\lib\\site-packages (from streamlit>=0.63->streamlit-audiorec) (0.9.1)\n",
      "Requirement already satisfied: tornado!=6.5.0,<7,>=6.0.3 in c:\\users\\hp\\anaconda3\\envs\\emo-dl\\lib\\site-packages (from streamlit>=0.63->streamlit-audiorec) (6.5.1)\n",
      "Requirement already satisfied: jinja2 in c:\\users\\hp\\anaconda3\\envs\\emo-dl\\lib\\site-packages (from altair<6,>=4.0->streamlit>=0.63->streamlit-audiorec) (3.1.6)\n",
      "Requirement already satisfied: jsonschema>=3.0 in c:\\users\\hp\\anaconda3\\envs\\emo-dl\\lib\\site-packages (from altair<6,>=4.0->streamlit>=0.63->streamlit-audiorec) (4.24.0)\n",
      "Requirement already satisfied: narwhals>=1.14.2 in c:\\users\\hp\\anaconda3\\envs\\emo-dl\\lib\\site-packages (from altair<6,>=4.0->streamlit>=0.63->streamlit-audiorec) (1.44.0)\n",
      "Requirement already satisfied: colorama in c:\\users\\hp\\anaconda3\\envs\\emo-dl\\lib\\site-packages (from click<9,>=7.0->streamlit>=0.63->streamlit-audiorec) (0.4.6)\n",
      "Requirement already satisfied: gitdb<5,>=4.0.1 in c:\\users\\hp\\anaconda3\\envs\\emo-dl\\lib\\site-packages (from gitpython!=3.1.19,<4,>=3.0.7->streamlit>=0.63->streamlit-audiorec) (4.0.12)\n",
      "Requirement already satisfied: smmap<6,>=3.0.1 in c:\\users\\hp\\anaconda3\\envs\\emo-dl\\lib\\site-packages (from gitdb<5,>=4.0.1->gitpython!=3.1.19,<4,>=3.0.7->streamlit>=0.63->streamlit-audiorec) (5.0.2)\n",
      "Requirement already satisfied: python-dateutil>=2.8.2 in c:\\users\\hp\\anaconda3\\envs\\emo-dl\\lib\\site-packages (from pandas<3,>=1.4.0->streamlit>=0.63->streamlit-audiorec) (2.9.0.post0)\n",
      "Requirement already satisfied: pytz>=2020.1 in c:\\users\\hp\\anaconda3\\envs\\emo-dl\\lib\\site-packages (from pandas<3,>=1.4.0->streamlit>=0.63->streamlit-audiorec) (2025.2)\n",
      "Requirement already satisfied: tzdata>=2022.7 in c:\\users\\hp\\anaconda3\\envs\\emo-dl\\lib\\site-packages (from pandas<3,>=1.4.0->streamlit>=0.63->streamlit-audiorec) (2025.2)\n",
      "Requirement already satisfied: charset_normalizer<4,>=2 in c:\\users\\hp\\anaconda3\\envs\\emo-dl\\lib\\site-packages (from requests<3,>=2.27->streamlit>=0.63->streamlit-audiorec) (3.4.2)\n",
      "Requirement already satisfied: idna<4,>=2.5 in c:\\users\\hp\\anaconda3\\envs\\emo-dl\\lib\\site-packages (from requests<3,>=2.27->streamlit>=0.63->streamlit-audiorec) (3.10)\n",
      "Requirement already satisfied: urllib3<3,>=1.21.1 in c:\\users\\hp\\anaconda3\\envs\\emo-dl\\lib\\site-packages (from requests<3,>=2.27->streamlit>=0.63->streamlit-audiorec) (2.5.0)\n",
      "Requirement already satisfied: certifi>=2017.4.17 in c:\\users\\hp\\anaconda3\\envs\\emo-dl\\lib\\site-packages (from requests<3,>=2.27->streamlit>=0.63->streamlit-audiorec) (2025.6.15)\n",
      "Requirement already satisfied: MarkupSafe>=2.0 in c:\\users\\hp\\anaconda3\\envs\\emo-dl\\lib\\site-packages (from jinja2->altair<6,>=4.0->streamlit>=0.63->streamlit-audiorec) (3.0.2)\n",
      "Requirement already satisfied: attrs>=22.2.0 in c:\\users\\hp\\anaconda3\\envs\\emo-dl\\lib\\site-packages (from jsonschema>=3.0->altair<6,>=4.0->streamlit>=0.63->streamlit-audiorec) (25.3.0)\n",
      "Requirement already satisfied: jsonschema-specifications>=2023.03.6 in c:\\users\\hp\\anaconda3\\envs\\emo-dl\\lib\\site-packages (from jsonschema>=3.0->altair<6,>=4.0->streamlit>=0.63->streamlit-audiorec) (2025.4.1)\n",
      "Requirement already satisfied: referencing>=0.28.4 in c:\\users\\hp\\anaconda3\\envs\\emo-dl\\lib\\site-packages (from jsonschema>=3.0->altair<6,>=4.0->streamlit>=0.63->streamlit-audiorec) (0.36.2)\n",
      "Requirement already satisfied: rpds-py>=0.7.1 in c:\\users\\hp\\anaconda3\\envs\\emo-dl\\lib\\site-packages (from jsonschema>=3.0->altair<6,>=4.0->streamlit>=0.63->streamlit-audiorec) (0.25.1)\n",
      "Requirement already satisfied: six>=1.5 in c:\\users\\hp\\anaconda3\\envs\\emo-dl\\lib\\site-packages (from python-dateutil>=2.8.2->pandas<3,>=1.4.0->streamlit>=0.63->streamlit-audiorec) (1.17.0)\n",
      "Downloading streamlit_audiorec-0.1.3-py3-none-any.whl (872 kB)\n",
      "   ---------------------------------------- 0.0/872.8 kB ? eta -:--:--\n",
      "   ---------------------------------------- 0.0/872.8 kB ? eta -:--:--\n",
      "   ------------------------ --------------- 524.3/872.8 kB 2.1 MB/s eta 0:00:01\n",
      "   ---------------------------------------- 872.8/872.8 kB 2.1 MB/s eta 0:00:00\n",
      "Installing collected packages: streamlit-audiorec\n",
      "Successfully installed streamlit-audiorec-0.1.3\n",
      "Note: you may need to restart the kernel to use updated packages.\n"
     ]
    }
   ],
   "source": [
    "pip install streamlit-audiorec\n"
   ]
  }
 ],
 "metadata": {
  "kernelspec": {
   "display_name": "emo-dl",
   "language": "python",
   "name": "python3"
  },
  "language_info": {
   "codemirror_mode": {
    "name": "ipython",
    "version": 3
   },
   "file_extension": ".py",
   "mimetype": "text/x-python",
   "name": "python",
   "nbconvert_exporter": "python",
   "pygments_lexer": "ipython3",
   "version": "3.9.23"
  }
 },
 "nbformat": 4,
 "nbformat_minor": 5
}
